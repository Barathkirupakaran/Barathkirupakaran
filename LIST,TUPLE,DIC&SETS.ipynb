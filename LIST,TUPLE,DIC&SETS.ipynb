{
  "nbformat": 4,
  "nbformat_minor": 0,
  "metadata": {
    "colab": {
      "provenance": [],
      "collapsed_sections": [
        "8zIm3ZZG-mGl",
        "-vUy_pLVEvzx",
        "pbeVBewvGmbr",
        "o6kUFSskxAiY"
      ],
      "authorship_tag": "ABX9TyN5WnePt5LVgTOYOt8A7AvF",
      "include_colab_link": true
    },
    "kernelspec": {
      "name": "python3",
      "display_name": "Python 3"
    },
    "language_info": {
      "name": "python"
    }
  },
  "cells": [
    {
      "cell_type": "markdown",
      "metadata": {
        "id": "view-in-github",
        "colab_type": "text"
      },
      "source": [
        "<a href=\"https://colab.research.google.com/github/Barathkirupakaran/Barathkirupakaran/blob/main/LIST%2CTUPLE%2CDIC%26SETS.ipynb\" target=\"_parent\"><img src=\"https://colab.research.google.com/assets/colab-badge.svg\" alt=\"Open In Colab\"/></a>"
      ]
    },
    {
      "cell_type": "markdown",
      "source": [
        "# **LIST FUNCTIONS**\n",
        "\n",
        "*Append Function:*"
      ],
      "metadata": {
        "id": "8zIm3ZZG-mGl"
      }
    },
    {
      "cell_type": "code",
      "source": [
        "L1=[10,20,\"RAVI\",\"RAJA\",2006]\n",
        "L1.append(45)\n",
        "L1"
      ],
      "metadata": {
        "id": "z1PYWxqa-syi"
      },
      "execution_count": null,
      "outputs": []
    },
    {
      "cell_type": "markdown",
      "source": [
        "*Clear Function*"
      ],
      "metadata": {
        "id": "ybWepchD_n5J"
      }
    },
    {
      "cell_type": "code",
      "source": [
        "l1=[10,20,\"RAVI\",\"RAJA\",2006]\n",
        "l1.clear()\n",
        "l1"
      ],
      "metadata": {
        "id": "Ur_lm-Pb_twr"
      },
      "execution_count": null,
      "outputs": []
    },
    {
      "cell_type": "markdown",
      "source": [
        "*Copy Function:*"
      ],
      "metadata": {
        "id": "0BDqIgPU_5hK"
      }
    },
    {
      "cell_type": "code",
      "source": [
        "l1=[10,20,\"RAVI\",\"RAJA\",2006]\n",
        "l1.copy()"
      ],
      "metadata": {
        "id": "mUHBtxNhAE_g"
      },
      "execution_count": null,
      "outputs": []
    },
    {
      "cell_type": "markdown",
      "source": [
        "*Count Function:*\n"
      ],
      "metadata": {
        "id": "NK-azwv1ARiq"
      }
    },
    {
      "cell_type": "code",
      "source": [
        "l1=[10,20,\"RAVI\",\"RAJA\",2006]\n",
        "l1.count(\"RAJA\")"
      ],
      "metadata": {
        "id": "8DlzPlGMAcPf"
      },
      "execution_count": null,
      "outputs": []
    },
    {
      "cell_type": "markdown",
      "source": [
        "*Extend Function:*"
      ],
      "metadata": {
        "id": "yyTg7-SnAuGm"
      }
    },
    {
      "cell_type": "code",
      "source": [
        "l1=[10,20,\"RAVI\",\"RAJA\",2006]\n",
        "cars = ['Ford', 'BMW', 'Volvo']\n",
        "l1.extend(cars)\n",
        "l1\n"
      ],
      "metadata": {
        "id": "jFiVXYfOA-LQ"
      },
      "execution_count": null,
      "outputs": []
    },
    {
      "cell_type": "markdown",
      "source": [
        "*Index Function*"
      ],
      "metadata": {
        "id": "ZKnGtU90Bt9P"
      }
    },
    {
      "cell_type": "code",
      "source": [
        "l1=[10,20,\"RAVI\",\"RAJA\",2006]\n",
        "l1.index(10)"
      ],
      "metadata": {
        "id": "S7kQqzBMBz-9"
      },
      "execution_count": null,
      "outputs": []
    },
    {
      "cell_type": "markdown",
      "source": [
        "*Insert Function:*"
      ],
      "metadata": {
        "id": "AfjN5iD0CSKq"
      }
    },
    {
      "cell_type": "code",
      "source": [
        "l1=[10,20,\"RAVI\",\"RAJA\",2006]\n",
        "l1.insert(2,5)\n",
        "l1"
      ],
      "metadata": {
        "id": "AfVMG9iyCdTt"
      },
      "execution_count": null,
      "outputs": []
    },
    {
      "cell_type": "markdown",
      "source": [
        "*Pop Function:*"
      ],
      "metadata": {
        "id": "OEHk5kP6CvrB"
      }
    },
    {
      "cell_type": "code",
      "source": [
        "l1=[10,20,\"RAVI\",\"RAJA\",2006]\n",
        "l1.pop(2)\n",
        "l1"
      ],
      "metadata": {
        "id": "_8U2EVd5DFQn"
      },
      "execution_count": null,
      "outputs": []
    },
    {
      "cell_type": "markdown",
      "source": [
        "*Remove Function:*"
      ],
      "metadata": {
        "id": "0gUYLB66DfTm"
      }
    },
    {
      "cell_type": "code",
      "source": [
        "l1=[10,20,\"RAVI\",\"RAJA\",2006]\n",
        "l1.remove(20,)\n",
        "l1"
      ],
      "metadata": {
        "colab": {
          "base_uri": "https://localhost:8080/"
        },
        "id": "PFojWNnzDlyf",
        "outputId": "e81b0ccf-d923-4afc-cc1f-0b6dde930e68"
      },
      "execution_count": null,
      "outputs": [
        {
          "output_type": "execute_result",
          "data": {
            "text/plain": [
              "[10, 'RAVI', 'RAJA', 2006]"
            ]
          },
          "metadata": {},
          "execution_count": 34
        }
      ]
    },
    {
      "cell_type": "markdown",
      "source": [
        "*Reverse Function:*"
      ],
      "metadata": {
        "id": "3IfIwkKZD3t2"
      }
    },
    {
      "cell_type": "code",
      "source": [
        "l1=[10,20,\"RAVI\",\"RAJA\",2006]\n",
        "l1.reverse()\n",
        "l1"
      ],
      "metadata": {
        "colab": {
          "base_uri": "https://localhost:8080/"
        },
        "id": "oC0ks8tjD_h7",
        "outputId": "ae891b87-0dda-42dd-9c63-885bf23612c7"
      },
      "execution_count": null,
      "outputs": [
        {
          "output_type": "execute_result",
          "data": {
            "text/plain": [
              "[2006, 'RAJA', 'RAVI', 20, 10]"
            ]
          },
          "metadata": {},
          "execution_count": 37
        }
      ]
    },
    {
      "cell_type": "markdown",
      "source": [
        "*Sort Function:*"
      ],
      "metadata": {
        "id": "uBNNCB38EMSZ"
      }
    },
    {
      "cell_type": "code",
      "source": [
        "l1=[\"BATMAN\",\"BARATH\",\"RAVI\",\"RAJA\",'SELENA']\n",
        "l1.sort()\n",
        "l1"
      ],
      "metadata": {
        "colab": {
          "base_uri": "https://localhost:8080/"
        },
        "id": "b169jb9aEOs3",
        "outputId": "809c8de9-25b1-4008-aff8-a82b74831ea4"
      },
      "execution_count": null,
      "outputs": [
        {
          "output_type": "execute_result",
          "data": {
            "text/plain": [
              "['BARATH', 'BATMAN', 'RAJA', 'RAVI', 'SELENA']"
            ]
          },
          "metadata": {},
          "execution_count": 41
        }
      ]
    },
    {
      "cell_type": "markdown",
      "source": [
        "# **TUPLE FUNCTIONS**"
      ],
      "metadata": {
        "id": "-vUy_pLVEvzx"
      }
    },
    {
      "cell_type": "markdown",
      "source": [
        "*Count Function:*"
      ],
      "metadata": {
        "id": "U4ns59OvE5R-"
      }
    },
    {
      "cell_type": "code",
      "source": [
        "welcome=(\"WELCOME TO BANKOK\")\n",
        "welcome.count(\"K\")"
      ],
      "metadata": {
        "colab": {
          "base_uri": "https://localhost:8080/"
        },
        "id": "52h9vRe-FPsH",
        "outputId": "0ee70008-0e2c-48fe-fbb1-04537ccb1a0d"
      },
      "execution_count": null,
      "outputs": [
        {
          "output_type": "execute_result",
          "data": {
            "text/plain": [
              "2"
            ]
          },
          "metadata": {},
          "execution_count": 44
        }
      ]
    },
    {
      "cell_type": "markdown",
      "source": [
        "*Index Function:*"
      ],
      "metadata": {
        "id": "fAsMrHOzFxZx"
      }
    },
    {
      "cell_type": "code",
      "source": [
        "country_Visited=('France','England','Germany','Italy','Bankok','Singapore')\n",
        "country_Visited.index('Bankok')"
      ],
      "metadata": {
        "colab": {
          "base_uri": "https://localhost:8080/"
        },
        "id": "wPhLHUXhF5JP",
        "outputId": "4672ab03-0e24-47e0-9b53-1733659e70bc"
      },
      "execution_count": null,
      "outputs": [
        {
          "output_type": "execute_result",
          "data": {
            "text/plain": [
              "4"
            ]
          },
          "metadata": {},
          "execution_count": 45
        }
      ]
    },
    {
      "cell_type": "markdown",
      "source": [],
      "metadata": {
        "id": "8Qs_YgsBGjpX"
      }
    },
    {
      "cell_type": "markdown",
      "source": [
        "# **DICTIONARY FUNCTIONS**"
      ],
      "metadata": {
        "id": "pbeVBewvGmbr"
      }
    },
    {
      "cell_type": "markdown",
      "source": [
        "*Clear Funtion:*"
      ],
      "metadata": {
        "id": "omgoyjOeHOxp"
      }
    },
    {
      "cell_type": "code",
      "source": [
        "car = {\"brand\": \"Ford\",\"model\": \"Mustang\",\"year\": 1964}\n",
        "car.clear()\n",
        "car"
      ],
      "metadata": {
        "id": "kvTMSdTHG0F_"
      },
      "execution_count": null,
      "outputs": []
    },
    {
      "cell_type": "markdown",
      "source": [
        "*Copy Funtion*"
      ],
      "metadata": {
        "id": "eLkTB59zHH1I"
      }
    },
    {
      "cell_type": "code",
      "source": [
        "car = {\"brand\": \"Ford\",\"model\": \"Mustang\",\"year\": 1964}\n",
        "x=car.copy()\n",
        "x\n"
      ],
      "metadata": {
        "id": "e9aEmSfEHcnO"
      },
      "execution_count": null,
      "outputs": []
    },
    {
      "cell_type": "markdown",
      "source": [
        "*Fromkeys Function:*"
      ],
      "metadata": {
        "id": "QKlbEZtgHpfn"
      }
    },
    {
      "cell_type": "code",
      "source": [
        "car = {\"brand\",\"model\",\"year\"}\n",
        "mode = {\"honda\",\"civic\",\"2022\"}\n",
        "thisdict = dict.fromkeys(car,mode)\n",
        "thisdict\n",
        "\n"
      ],
      "metadata": {
        "colab": {
          "base_uri": "https://localhost:8080/"
        },
        "id": "mw1Ur9raHuwX",
        "outputId": "abd96735-2f9a-40b1-ed61-2ac99de726ca"
      },
      "execution_count": null,
      "outputs": [
        {
          "output_type": "execute_result",
          "data": {
            "text/plain": [
              "{'brand': {'2022', 'civic', 'honda'},\n",
              " 'model': {'2022', 'civic', 'honda'},\n",
              " 'year': {'2022', 'civic', 'honda'}}"
            ]
          },
          "metadata": {},
          "execution_count": 60
        }
      ]
    },
    {
      "cell_type": "markdown",
      "source": [
        "*Get Funtion:*"
      ],
      "metadata": {
        "id": "yv2IP-mkJiDS"
      }
    },
    {
      "cell_type": "code",
      "source": [
        "car = {\"brand\": \"Ford\",\"model\": \"Mustang\",\"year\": 1964}\n",
        "x=car.get(\"model\")\n",
        "x"
      ],
      "metadata": {
        "colab": {
          "base_uri": "https://localhost:8080/",
          "height": 35
        },
        "id": "dQ7DLTK3JoK_",
        "outputId": "e3d7d500-7646-46d4-df2b-399f28a2d10b"
      },
      "execution_count": null,
      "outputs": [
        {
          "output_type": "execute_result",
          "data": {
            "text/plain": [
              "'Mustang'"
            ],
            "application/vnd.google.colaboratory.intrinsic+json": {
              "type": "string"
            }
          },
          "metadata": {},
          "execution_count": 61
        }
      ]
    },
    {
      "cell_type": "markdown",
      "source": [
        "*Items Function:*\n"
      ],
      "metadata": {
        "id": "yBJI56xgJyMm"
      }
    },
    {
      "cell_type": "code",
      "source": [
        "car = {\"brand\": \"Ford\",\"model\": \"Mustang\",\"year\": 1964}\n",
        "x = car.items()\n",
        "print(x)"
      ],
      "metadata": {
        "id": "TsITRmoRJ2_e"
      },
      "execution_count": null,
      "outputs": []
    },
    {
      "cell_type": "markdown",
      "source": [
        "*Keys Function:*"
      ],
      "metadata": {
        "id": "uz6gSU5btuoS"
      }
    },
    {
      "cell_type": "code",
      "source": [
        "car = {\"brand\": \"Ford\",\"model\": \"Mustang\",\"year\": 1964}\n",
        "x = car.keys()\n",
        "print(x)"
      ],
      "metadata": {
        "colab": {
          "base_uri": "https://localhost:8080/"
        },
        "id": "uOiUQZFzt0D2",
        "outputId": "5bc01a3d-e0e4-4606-e434-03db503a4154"
      },
      "execution_count": 1,
      "outputs": [
        {
          "output_type": "stream",
          "name": "stdout",
          "text": [
            "dict_keys(['brand', 'model', 'year'])\n"
          ]
        }
      ]
    },
    {
      "cell_type": "markdown",
      "source": [
        "*Pop Funtion:*"
      ],
      "metadata": {
        "id": "xQ-nYYzEuJEZ"
      }
    },
    {
      "cell_type": "code",
      "source": [
        "car = {\"brand\": \"Ford\",\"model\": \"Mustang\",\"year\": 1964}\n",
        "car.pop(\"model\")\n",
        "print(car)"
      ],
      "metadata": {
        "colab": {
          "base_uri": "https://localhost:8080/"
        },
        "id": "SBNWSOA7uQV_",
        "outputId": "a59f830e-7362-4137-ddae-e34b81f358ba"
      },
      "execution_count": 2,
      "outputs": [
        {
          "output_type": "stream",
          "name": "stdout",
          "text": [
            "{'brand': 'Ford', 'year': 1964}\n"
          ]
        }
      ]
    },
    {
      "cell_type": "markdown",
      "source": [
        "*Pop Items:*"
      ],
      "metadata": {
        "id": "VX-kVAxcudVv"
      }
    },
    {
      "cell_type": "code",
      "source": [
        "car = {\"brand\": \"Ford\",\"model\": \"Mustang\",\"year\": 1964}\n",
        "car.popitem()\n",
        "print(car)"
      ],
      "metadata": {
        "colab": {
          "base_uri": "https://localhost:8080/"
        },
        "id": "iH7zlaGKugyH",
        "outputId": "23402303-45a8-4013-89cb-af12991fb0d8"
      },
      "execution_count": 5,
      "outputs": [
        {
          "output_type": "stream",
          "name": "stdout",
          "text": [
            "{'brand': 'Ford', 'model': 'Mustang'}\n"
          ]
        }
      ]
    },
    {
      "cell_type": "markdown",
      "source": [
        "*Setdefault Function:*"
      ],
      "metadata": {
        "id": "KVa4wFjbu0un"
      }
    },
    {
      "cell_type": "code",
      "source": [
        "car = {\"brand\": \"Ford\",\"model\": \"Mustang\",\"year\": 1964}\n",
        "x = car.setdefault(\"model\", \"Bronco\")\n",
        "print(x)"
      ],
      "metadata": {
        "colab": {
          "base_uri": "https://localhost:8080/"
        },
        "id": "OaBBKR5QvP4B",
        "outputId": "8f0bc125-e538-45f4-dbbe-87be6a132eca"
      },
      "execution_count": 6,
      "outputs": [
        {
          "output_type": "stream",
          "name": "stdout",
          "text": [
            "Mustang\n"
          ]
        }
      ]
    },
    {
      "cell_type": "markdown",
      "source": [
        "*Update Function:*"
      ],
      "metadata": {
        "id": "WTCRUXWBvxjH"
      }
    },
    {
      "cell_type": "code",
      "source": [
        "car = {\"brand\": \"Ford\",\"model\": \"Mustang\",\"year\": 1964}\n",
        "car.update({\"color\": \"Purple\"})\n",
        "print(car)"
      ],
      "metadata": {
        "colab": {
          "base_uri": "https://localhost:8080/"
        },
        "id": "f4PQNqwcwGGZ",
        "outputId": "49b0228b-7024-4f80-e7d0-f876ff313786"
      },
      "execution_count": 8,
      "outputs": [
        {
          "output_type": "stream",
          "name": "stdout",
          "text": [
            "{'brand': 'Ford', 'model': 'Mustang', 'year': 1964, 'color': 'Purple'}\n"
          ]
        }
      ]
    },
    {
      "cell_type": "markdown",
      "source": [
        "*Values Funtion:*"
      ],
      "metadata": {
        "id": "BWZE9Q39wfK6"
      }
    },
    {
      "cell_type": "code",
      "source": [
        "car = {\"brand\": \"Ford\",\"model\": \"Mustang\",\"year\": 1964}\n",
        "x = car.values()\n",
        "print(x)"
      ],
      "metadata": {
        "colab": {
          "base_uri": "https://localhost:8080/"
        },
        "id": "WklmCc2zwjqp",
        "outputId": "04851c3f-bb3d-462b-882b-a2358b1f25ae"
      },
      "execution_count": 9,
      "outputs": [
        {
          "output_type": "stream",
          "name": "stdout",
          "text": [
            "dict_values(['Ford', 'Mustang', 1964])\n"
          ]
        }
      ]
    },
    {
      "cell_type": "markdown",
      "source": [
        "# **SETS FUNCTIONS**"
      ],
      "metadata": {
        "id": "o6kUFSskxAiY"
      }
    },
    {
      "cell_type": "markdown",
      "source": [
        "*Add Funtion:*"
      ],
      "metadata": {
        "id": "CT2xEsftxHoq"
      }
    },
    {
      "cell_type": "code",
      "source": [
        "cars = {\"Ford\", \"BMW\", \"Volvo\"}\n",
        "cars.add(\"Honda\")\n",
        "cars"
      ],
      "metadata": {
        "colab": {
          "base_uri": "https://localhost:8080/"
        },
        "id": "2eXUh_FVxQKH",
        "outputId": "1bfe5be2-3a01-411e-bdfe-8bef13c28dcb"
      },
      "execution_count": 10,
      "outputs": [
        {
          "output_type": "execute_result",
          "data": {
            "text/plain": [
              "{'BMW', 'Ford', 'Honda', 'Volvo'}"
            ]
          },
          "metadata": {},
          "execution_count": 10
        }
      ]
    },
    {
      "cell_type": "markdown",
      "source": [
        "*Clear Funtion:*"
      ],
      "metadata": {
        "id": "VoUZYAXhxdfo"
      }
    },
    {
      "cell_type": "code",
      "source": [
        "cars = {\"Ford\", \"BMW\", \"Volvo\"}\n",
        "cars.clear()\n",
        "cars"
      ],
      "metadata": {
        "colab": {
          "base_uri": "https://localhost:8080/"
        },
        "id": "4OSW3oDLxjhS",
        "outputId": "2c0f5fbd-ed44-42fe-bc9a-4484db61621d"
      },
      "execution_count": 11,
      "outputs": [
        {
          "output_type": "execute_result",
          "data": {
            "text/plain": [
              "set()"
            ]
          },
          "metadata": {},
          "execution_count": 11
        }
      ]
    },
    {
      "cell_type": "markdown",
      "source": [
        "*Copy Funtion:*"
      ],
      "metadata": {
        "id": "CvQEinrvxuIx"
      }
    },
    {
      "cell_type": "code",
      "source": [
        "cars= {\"Ford\", \"BMW\", \"Volvo\"}\n",
        "x=cars.copy()\n",
        "x"
      ],
      "metadata": {
        "colab": {
          "base_uri": "https://localhost:8080/"
        },
        "id": "w6TGRmNlxzhf",
        "outputId": "b00785e1-5801-4537-98a1-3c513b6afcbe"
      },
      "execution_count": 12,
      "outputs": [
        {
          "output_type": "execute_result",
          "data": {
            "text/plain": [
              "{'BMW', 'Ford', 'Volvo'}"
            ]
          },
          "metadata": {},
          "execution_count": 12
        }
      ]
    },
    {
      "cell_type": "markdown",
      "source": [
        "*Difference Function:*"
      ],
      "metadata": {
        "id": "LsTDG4H5x8fr"
      }
    },
    {
      "cell_type": "code",
      "source": [
        "cars= {\"Ford\", \"BMW\", \"Volvo\"}\n",
        "y= {\"Ford\", \"BMW\", \"Tesla\"}\n",
        "x=cars.difference(y)\n",
        "x"
      ],
      "metadata": {
        "colab": {
          "base_uri": "https://localhost:8080/"
        },
        "id": "DzGzXfAwyFhX",
        "outputId": "3ff17330-f4fc-4c06-9227-1b315d54d45f"
      },
      "execution_count": 15,
      "outputs": [
        {
          "output_type": "execute_result",
          "data": {
            "text/plain": [
              "{'Volvo'}"
            ]
          },
          "metadata": {},
          "execution_count": 15
        }
      ]
    },
    {
      "cell_type": "markdown",
      "source": [
        "*Difference Update Function:*"
      ],
      "metadata": {
        "id": "rQrq_dpSyf6Q"
      }
    },
    {
      "cell_type": "code",
      "source": [
        "cars= {\"Ford\", \"BMW\", \"Volvo\"}\n",
        "y= {\"Ford\", \"BMW\", \"Tesla\"}\n",
        "cars.difference_update(y)\n",
        "cars"
      ],
      "metadata": {
        "colab": {
          "base_uri": "https://localhost:8080/"
        },
        "id": "4J7T4D0Vyqjk",
        "outputId": "ada1a942-478d-4f3b-fb18-a32db44bc109"
      },
      "execution_count": 16,
      "outputs": [
        {
          "output_type": "execute_result",
          "data": {
            "text/plain": [
              "{'Volvo'}"
            ]
          },
          "metadata": {},
          "execution_count": 16
        }
      ]
    },
    {
      "cell_type": "markdown",
      "source": [
        "*Discard Function:*"
      ],
      "metadata": {
        "id": "JD4LjMfgy5d4"
      }
    },
    {
      "cell_type": "code",
      "source": [
        "cars= {\"Ford\", \"BMW\", \"Volvo\"}\n",
        "cars.discard(\"BMW\")\n",
        "cars"
      ],
      "metadata": {
        "colab": {
          "base_uri": "https://localhost:8080/"
        },
        "id": "juhcQmWgy9fR",
        "outputId": "b5012c9f-763a-4858-91e2-d7b9cbf6e290"
      },
      "execution_count": 17,
      "outputs": [
        {
          "output_type": "execute_result",
          "data": {
            "text/plain": [
              "{'Ford', 'Volvo'}"
            ]
          },
          "metadata": {},
          "execution_count": 17
        }
      ]
    },
    {
      "cell_type": "markdown",
      "source": [
        "*Intersection:*"
      ],
      "metadata": {
        "id": "mumA16ZrzHYH"
      }
    },
    {
      "cell_type": "code",
      "source": [
        "cars= {\"Ford\", \"BMW\", \"Volvo\"}\n",
        "y= {\"Ford\", \"BMW\", \"Tesla\"}\n",
        "x=cars.intersection(y)\n",
        "x"
      ],
      "metadata": {
        "colab": {
          "base_uri": "https://localhost:8080/"
        },
        "id": "Q15SYzzAzK5Q",
        "outputId": "fb02e0d1-3b9a-4d14-c679-7d0a880ff86b"
      },
      "execution_count": 18,
      "outputs": [
        {
          "output_type": "execute_result",
          "data": {
            "text/plain": [
              "{'BMW', 'Ford'}"
            ]
          },
          "metadata": {},
          "execution_count": 18
        }
      ]
    },
    {
      "cell_type": "markdown",
      "source": [
        "*Intersection Update:*"
      ],
      "metadata": {
        "id": "OMcIxp6_zdfb"
      }
    },
    {
      "cell_type": "code",
      "source": [
        "cars= {\"Ford\", \"BMW\", \"Volvo\"}\n",
        "y= {\"Ford\", \"BMW\", \"Tesla\"}\n",
        "cars.intersection_update(y)\n",
        "cars"
      ],
      "metadata": {
        "colab": {
          "base_uri": "https://localhost:8080/"
        },
        "id": "pQiHimJrzkcx",
        "outputId": "8c0fd88c-b79e-4801-e8f9-55f3e7e5ebe4"
      },
      "execution_count": 19,
      "outputs": [
        {
          "output_type": "execute_result",
          "data": {
            "text/plain": [
              "{'BMW', 'Ford'}"
            ]
          },
          "metadata": {},
          "execution_count": 19
        }
      ]
    },
    {
      "cell_type": "markdown",
      "source": [
        "Isdisjoint Funtion:"
      ],
      "metadata": {
        "id": "juHR6QPJ0XO0"
      }
    },
    {
      "cell_type": "code",
      "source": [
        "#Return True if no items in set x is present in set y:\n",
        "cars= {\"Ford\", \"BMW\", \"Volvo\"}\n",
        "y= {\"Tesla\", \"Kia\"}\n",
        "x=cars.isdisjoint(y)\n",
        "x"
      ],
      "metadata": {
        "colab": {
          "base_uri": "https://localhost:8080/"
        },
        "id": "-38euQzU0apv",
        "outputId": "d9418a63-006d-4fb0-e346-0acb96297f57"
      },
      "execution_count": 20,
      "outputs": [
        {
          "output_type": "execute_result",
          "data": {
            "text/plain": [
              "True"
            ]
          },
          "metadata": {},
          "execution_count": 20
        }
      ]
    },
    {
      "cell_type": "markdown",
      "source": [
        "*Issubset Funtion:*"
      ],
      "metadata": {
        "id": "pSVecTzI0y3v"
      }
    },
    {
      "cell_type": "code",
      "source": [
        "#Return True if all items in set x are present in set y:\n",
        "cars= {\"Ford\", \"BMW\", \"Volvo\"}\n",
        "y= {\"Ford\", \"BMW\", \"Tesla\"}\n",
        "x=cars.issubset(y)\n",
        "x"
      ],
      "metadata": {
        "colab": {
          "base_uri": "https://localhost:8080/"
        },
        "id": "YQudyhlY1WXJ",
        "outputId": "6ea8c192-2153-4f0c-db3d-9170b6b3042c"
      },
      "execution_count": 21,
      "outputs": [
        {
          "output_type": "execute_result",
          "data": {
            "text/plain": [
              "False"
            ]
          },
          "metadata": {},
          "execution_count": 21
        }
      ]
    },
    {
      "cell_type": "markdown",
      "source": [
        "*Issuperset Funtion:*"
      ],
      "metadata": {
        "id": "RdU29fmD1grY"
      }
    },
    {
      "cell_type": "code",
      "source": [
        "#Return True if all items set y are present in set x:\n",
        "cars= {\"Ford\", \"BMW\", \"Volvo\"}\n",
        "y= {\"Ford\", \"BMW\", \"Tesla\"}\n",
        "x=cars.issuperset(y)\n",
        "x"
      ],
      "metadata": {
        "colab": {
          "base_uri": "https://localhost:8080/"
        },
        "id": "DoVoYI691o6D",
        "outputId": "2d43dfa4-89ef-45e9-cf4e-954a776db7f4"
      },
      "execution_count": 22,
      "outputs": [
        {
          "output_type": "execute_result",
          "data": {
            "text/plain": [
              "False"
            ]
          },
          "metadata": {},
          "execution_count": 22
        }
      ]
    },
    {
      "cell_type": "markdown",
      "source": [
        "*Pop Funtion:*"
      ],
      "metadata": {
        "id": "ERpsaxFd10Bo"
      }
    },
    {
      "cell_type": "code",
      "source": [
        "cars= {\"Ford\", \"BMW\", \"Volvo\"}\n",
        "cars.pop()\n",
        "cars"
      ],
      "metadata": {
        "colab": {
          "base_uri": "https://localhost:8080/"
        },
        "id": "oef-PLYF17QQ",
        "outputId": "6113ec3c-0123-463d-9f65-acbf2b03a670"
      },
      "execution_count": 23,
      "outputs": [
        {
          "output_type": "execute_result",
          "data": {
            "text/plain": [
              "{'Ford', 'Volvo'}"
            ]
          },
          "metadata": {},
          "execution_count": 23
        }
      ]
    },
    {
      "cell_type": "markdown",
      "source": [
        "*Remove Funtion:*"
      ],
      "metadata": {
        "id": "NICwbnLJ2DLA"
      }
    },
    {
      "cell_type": "code",
      "source": [
        "cars= {\"Ford\", \"BMW\", \"Volvo\"}\n",
        "cars.remove(\"BMW\")\n",
        "cars"
      ],
      "metadata": {
        "colab": {
          "base_uri": "https://localhost:8080/"
        },
        "id": "9Jk6nAzK2GLf",
        "outputId": "0cb528cc-b6ed-4a5b-bfa9-1f6bf7eeac33"
      },
      "execution_count": 24,
      "outputs": [
        {
          "output_type": "execute_result",
          "data": {
            "text/plain": [
              "{'Ford', 'Volvo'}"
            ]
          },
          "metadata": {},
          "execution_count": 24
        }
      ]
    },
    {
      "cell_type": "markdown",
      "source": [
        "*Symmetric Difference Funtion:*"
      ],
      "metadata": {
        "id": "eg3CNdmy2RdY"
      }
    },
    {
      "cell_type": "code",
      "source": [
        "# Return a set that contains all items from both sets, except items that are\n",
        "# present in both sets\n",
        "cars= {\"Ford\", \"BMW\", \"Volvo\"}\n",
        "y= {\"Ford\", \"BMW\", \"Tesla\"}\n",
        "x=cars.symmetric_difference(y)\n",
        "x"
      ],
      "metadata": {
        "colab": {
          "base_uri": "https://localhost:8080/"
        },
        "id": "ed3CH3fQ2aeA",
        "outputId": "40aebecd-1b12-488b-f97d-e21ef06a7a36"
      },
      "execution_count": 25,
      "outputs": [
        {
          "output_type": "execute_result",
          "data": {
            "text/plain": [
              "{'Tesla', 'Volvo'}"
            ]
          },
          "metadata": {},
          "execution_count": 25
        }
      ]
    },
    {
      "cell_type": "markdown",
      "source": [
        "*Symmetric Difference Update:*"
      ],
      "metadata": {
        "id": "bn8Rq60r2nmK"
      }
    },
    {
      "cell_type": "code",
      "source": [
        "# Return a set that contains all items from both sets, except items that are\n",
        "# present in both sets\n",
        "cars= {\"Ford\", \"BMW\", \"Volvo\"}\n",
        "y= {\"Ford\", \"BMW\", \"Tesla\"}\n",
        "cars.symmetric_difference_update(y)\n",
        "cars"
      ],
      "metadata": {
        "colab": {
          "base_uri": "https://localhost:8080/"
        },
        "id": "afIulYV62ybJ",
        "outputId": "2c8a29fc-591a-4d94-c917-df218a2435da"
      },
      "execution_count": 26,
      "outputs": [
        {
          "output_type": "execute_result",
          "data": {
            "text/plain": [
              "{'Tesla', 'Volvo'}"
            ]
          },
          "metadata": {},
          "execution_count": 26
        }
      ]
    },
    {
      "cell_type": "markdown",
      "source": [
        "*Union Function:*"
      ],
      "metadata": {
        "id": "oXoG2UKu3fM2"
      }
    },
    {
      "cell_type": "code",
      "source": [
        "cars= {\"Ford\", \"BMW\", \"Volvo\"}\n",
        "y= {\"Ford\", \"BMW\", \"Tesla\"}\n",
        "x=cars.union(y)\n",
        "x"
      ],
      "metadata": {
        "colab": {
          "base_uri": "https://localhost:8080/"
        },
        "id": "2J1n4Kh-3jmp",
        "outputId": "ec0e2d9a-19e6-47a8-dbab-9356ab427dcb"
      },
      "execution_count": 27,
      "outputs": [
        {
          "output_type": "execute_result",
          "data": {
            "text/plain": [
              "{'BMW', 'Ford', 'Tesla', 'Volvo'}"
            ]
          },
          "metadata": {},
          "execution_count": 27
        }
      ]
    },
    {
      "cell_type": "markdown",
      "source": [
        "*Update Funtion:*"
      ],
      "metadata": {
        "id": "y5mDIPqF3xBT"
      }
    },
    {
      "cell_type": "code",
      "source": [
        "cars= {\"Ford\", \"BMW\", \"Volvo\"}\n",
        "y= {\"Ford\", \"BMW\", \"Tesla\"}\n",
        "cars.update(y)\n",
        "cars"
      ],
      "metadata": {
        "colab": {
          "base_uri": "https://localhost:8080/"
        },
        "id": "TfRkgr6S34pA",
        "outputId": "0f18d12a-be0f-44ed-ce8d-51cad358f964"
      },
      "execution_count": 28,
      "outputs": [
        {
          "output_type": "execute_result",
          "data": {
            "text/plain": [
              "{'BMW', 'Ford', 'Tesla', 'Volvo'}"
            ]
          },
          "metadata": {},
          "execution_count": 28
        }
      ]
    }
  ]
}