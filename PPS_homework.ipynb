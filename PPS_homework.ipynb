{
  "nbformat": 4,
  "nbformat_minor": 0,
  "metadata": {
    "colab": {
      "provenance": [],
      "authorship_tag": "ABX9TyOKL/+qDsix0nZQFQYs13z5",
      "include_colab_link": true
    },
    "kernelspec": {
      "name": "python3",
      "display_name": "Python 3"
    },
    "language_info": {
      "name": "python"
    }
  },
  "cells": [
    {
      "cell_type": "markdown",
      "metadata": {
        "id": "view-in-github",
        "colab_type": "text"
      },
      "source": [
        "<a href=\"https://colab.research.google.com/github/Barathkirupakaran/Barathkirupakaran/blob/main/PPS_homework.ipynb\" target=\"_parent\"><img src=\"https://colab.research.google.com/assets/colab-badge.svg\" alt=\"Open In Colab\"/></a>"
      ]
    },
    {
      "cell_type": "code",
      "execution_count": null,
      "metadata": {
        "id": "jz_zyapxp0vC"
      },
      "outputs": [],
      "source": [
        "#write a program to find biggest number among three numbers using nested if else statements\n",
        "def find_biggest(num1, num2, num3):\n",
        "  if num1 > num2:\n",
        "    if num1 > num3:\n",
        "      return num1\n",
        "    else:\n",
        "      return num3\n",
        "  else:\n",
        "    if num2 > num3:\n",
        "      return num2\n",
        "    else:\n",
        "      return num3\n",
        "\n",
        "num1 = float(input(\"Enter first number: \"))\n",
        "num2 = float(input(\"Enter second number: \"))\n",
        "num3 = float(input(\"Enter third number: \"))\n",
        "\n",
        "biggest = find_biggest(num1, num2, num3)\n",
        "print(\"The biggest number is:\", biggest)"
      ]
    },
    {
      "cell_type": "code",
      "source": [
        "#swapping of two numbers\n",
        "x = input('Enter value of x: ')\n",
        "y = input('Enter value of y: ')\n",
        "temp = x\n",
        "x = y\n",
        "y = temp\n",
        "print('The value of x after swapping: {}'.format(x))\n",
        "print('The value of y after swapping: {}'.format(y))"
      ],
      "metadata": {
        "id": "OArPvh9k9W_8"
      },
      "execution_count": null,
      "outputs": []
    },
    {
      "cell_type": "code",
      "source": [
        "#quadratic roots of the given equation (ax**2 + bx + c) = 0\n",
        "import cmath\n",
        "a = 1\n",
        "b = 5\n",
        "c = 6\n",
        "d = (b**2) - (4*a*c)\n",
        "sol1 = (-b-cmath.sqrt(d))/(2*a)\n",
        "sol2 = (-b+cmath.sqrt(d))/(2*a)\n",
        "print('The solution are {0} and {1}'.format(sol1,sol2))\n"
      ],
      "metadata": {
        "id": "8qOA8UGg9H65"
      },
      "execution_count": null,
      "outputs": []
    },
    {
      "cell_type": "code",
      "source": [
        "#swapping of two numbers\n",
        "x = input('Enter value of x: ')\n",
        "y = input('Enter value of y: ')\n",
        "temp = x\n",
        "x = y\n",
        "y = temp\n",
        "print('The value of x after swapping: {}'.format(x))\n",
        "print('The value of y after swapping: {}'.format(y))"
      ],
      "metadata": {
        "id": "lgq6moYd83rR"
      },
      "execution_count": null,
      "outputs": []
    },
    {
      "cell_type": "code",
      "source": [
        "# Python program to check if the input number is odd or even.\n",
        "num = int(input(\"Enter a number: \"))\n",
        "if (num % 2) == 0:\n",
        "   print(\"{0} is Even\".format(num))\n",
        "else:\n",
        "   print(\"{0} is Odd\".format(num))"
      ],
      "metadata": {
        "id": "0kAuIFdX9imW"
      },
      "execution_count": null,
      "outputs": []
    },
    {
      "cell_type": "code",
      "source": [
        "# Python Program to calculate the square root\n",
        "import math\n",
        "num = float(input('Enter a number: '))\n",
        "num_sqrt = (math.sqrt(num))\n",
        "print('The square root of %0.3f is %0.3f'%(num ,num_sqrt))"
      ],
      "metadata": {
        "id": "nh-UkGSa9lS-"
      },
      "execution_count": null,
      "outputs": []
    },
    {
      "cell_type": "code",
      "source": [
        "#find factorial of a number in python\n",
        "num = int(input(\"enter the number: \"))\n",
        "factorial = 1\n",
        "for i in range(1, num + 1):\n",
        "    factorial *= i\n",
        "print(f\"The factorial of {num} is {factorial}\")"
      ],
      "metadata": {
        "id": "rF2W2nJP9sGf"
      },
      "execution_count": null,
      "outputs": []
    },
    {
      "cell_type": "code",
      "source": [
        "#sum of even numbers and odd numbers\n",
        "def sum_even_odd(numbers):\n",
        "    even_sum = 0\n",
        "    odd_sum = 0\n",
        "    for num in numbers:\n",
        "        if num % 2 == 0:\n",
        "            even_sum += num\n",
        "        else:\n",
        "            odd_sum += num\n",
        "    return even_sum, odd_sum\n",
        "\n",
        "numbers = [11, 12, 13, 14, 15, 16, 17, 18, 19, 20]\n",
        "even, odd = sum_even_odd(numbers)\n",
        "\n",
        "print(\"Sum of even numbers:\", even)\n",
        "print(\"Sum of odd numbers:\", odd)"
      ],
      "metadata": {
        "id": "-rcNgqQD98MH"
      },
      "execution_count": null,
      "outputs": []
    },
    {
      "cell_type": "code",
      "source": [
        "# Program to check if a number is prime or not\n",
        "num = int(input(\"Enter a number: \"))\n",
        "flag = False\n",
        "if num == 0 or num == 1:\n",
        "    print(num, \"is not a prime number\")\n",
        "elif num > 1:\n",
        "\n",
        "    for i in range(2, num):\n",
        "        if (num % i) == 0:\n",
        "\n",
        "            flag = True\n",
        "\n",
        "            break\n",
        "\n",
        "    if flag:\n",
        "        print(num, \"is not a prime number\")\n",
        "    else:\n",
        "        print(num, \"is a prime number\")"
      ],
      "metadata": {
        "id": "DWqnlSmQ-EVV"
      },
      "execution_count": null,
      "outputs": []
    },
    {
      "cell_type": "code",
      "source": [
        "#write the series of cosine and cos\n"
      ],
      "metadata": {
        "id": "me3DtgoD-aZx"
      },
      "execution_count": null,
      "outputs": []
    }
  ]
}